{
 "cells": [
  {
   "cell_type": "markdown",
   "id": "0d275c9e",
   "metadata": {},
   "source": [
    "# Importing libraries"
   ]
  },
  {
   "cell_type": "code",
   "execution_count": 11,
   "id": "f7d5f589",
   "metadata": {},
   "outputs": [],
   "source": [
    "import pandas as pd\n",
    "import numpy as np\n",
    "import seaborn as sns"
   ]
  },
  {
   "cell_type": "markdown",
   "id": "7d1ab3bf",
   "metadata": {},
   "source": [
    "# reading data"
   ]
  },
  {
   "cell_type": "code",
   "execution_count": 3,
   "id": "80cc52b1",
   "metadata": {},
   "outputs": [
    {
     "data": {
      "text/html": [
       "<div>\n",
       "<style scoped>\n",
       "    .dataframe tbody tr th:only-of-type {\n",
       "        vertical-align: middle;\n",
       "    }\n",
       "\n",
       "    .dataframe tbody tr th {\n",
       "        vertical-align: top;\n",
       "    }\n",
       "\n",
       "    .dataframe thead th {\n",
       "        text-align: right;\n",
       "    }\n",
       "</style>\n",
       "<table border=\"1\" class=\"dataframe\">\n",
       "  <thead>\n",
       "    <tr style=\"text-align: right;\">\n",
       "      <th></th>\n",
       "      <th>gender</th>\n",
       "      <th>SeniorCitizen</th>\n",
       "      <th>Partner</th>\n",
       "      <th>Dependents</th>\n",
       "      <th>tenure</th>\n",
       "      <th>PhoneService</th>\n",
       "      <th>OnlineSecurity</th>\n",
       "      <th>OnlineBackup</th>\n",
       "      <th>DeviceProtection</th>\n",
       "      <th>TechSupport</th>\n",
       "      <th>StreamingTV</th>\n",
       "      <th>StreamingMovies</th>\n",
       "      <th>Contract</th>\n",
       "      <th>MonthlyCharges</th>\n",
       "      <th>TotalCharges</th>\n",
       "      <th>Churn</th>\n",
       "    </tr>\n",
       "  </thead>\n",
       "  <tbody>\n",
       "    <tr>\n",
       "      <th>0</th>\n",
       "      <td>Female</td>\n",
       "      <td>0</td>\n",
       "      <td>Yes</td>\n",
       "      <td>No</td>\n",
       "      <td>1</td>\n",
       "      <td>No</td>\n",
       "      <td>No</td>\n",
       "      <td>Yes</td>\n",
       "      <td>No</td>\n",
       "      <td>No</td>\n",
       "      <td>No</td>\n",
       "      <td>No</td>\n",
       "      <td>Month-to-month</td>\n",
       "      <td>29.85</td>\n",
       "      <td>29.85</td>\n",
       "      <td>No</td>\n",
       "    </tr>\n",
       "    <tr>\n",
       "      <th>1</th>\n",
       "      <td>Male</td>\n",
       "      <td>0</td>\n",
       "      <td>No</td>\n",
       "      <td>No</td>\n",
       "      <td>34</td>\n",
       "      <td>Yes</td>\n",
       "      <td>Yes</td>\n",
       "      <td>No</td>\n",
       "      <td>Yes</td>\n",
       "      <td>No</td>\n",
       "      <td>No</td>\n",
       "      <td>No</td>\n",
       "      <td>One year</td>\n",
       "      <td>56.95</td>\n",
       "      <td>1889.5</td>\n",
       "      <td>No</td>\n",
       "    </tr>\n",
       "    <tr>\n",
       "      <th>2</th>\n",
       "      <td>Male</td>\n",
       "      <td>0</td>\n",
       "      <td>No</td>\n",
       "      <td>No</td>\n",
       "      <td>2</td>\n",
       "      <td>Yes</td>\n",
       "      <td>Yes</td>\n",
       "      <td>Yes</td>\n",
       "      <td>No</td>\n",
       "      <td>No</td>\n",
       "      <td>No</td>\n",
       "      <td>No</td>\n",
       "      <td>Month-to-month</td>\n",
       "      <td>53.85</td>\n",
       "      <td>108.15</td>\n",
       "      <td>Yes</td>\n",
       "    </tr>\n",
       "    <tr>\n",
       "      <th>3</th>\n",
       "      <td>Male</td>\n",
       "      <td>0</td>\n",
       "      <td>No</td>\n",
       "      <td>No</td>\n",
       "      <td>45</td>\n",
       "      <td>No</td>\n",
       "      <td>Yes</td>\n",
       "      <td>No</td>\n",
       "      <td>Yes</td>\n",
       "      <td>Yes</td>\n",
       "      <td>No</td>\n",
       "      <td>No</td>\n",
       "      <td>One year</td>\n",
       "      <td>42.30</td>\n",
       "      <td>1840.75</td>\n",
       "      <td>No</td>\n",
       "    </tr>\n",
       "    <tr>\n",
       "      <th>4</th>\n",
       "      <td>Female</td>\n",
       "      <td>0</td>\n",
       "      <td>No</td>\n",
       "      <td>No</td>\n",
       "      <td>2</td>\n",
       "      <td>Yes</td>\n",
       "      <td>No</td>\n",
       "      <td>No</td>\n",
       "      <td>No</td>\n",
       "      <td>No</td>\n",
       "      <td>No</td>\n",
       "      <td>No</td>\n",
       "      <td>Month-to-month</td>\n",
       "      <td>70.70</td>\n",
       "      <td>151.65</td>\n",
       "      <td>Yes</td>\n",
       "    </tr>\n",
       "  </tbody>\n",
       "</table>\n",
       "</div>"
      ],
      "text/plain": [
       "   gender  SeniorCitizen Partner Dependents  tenure PhoneService  \\\n",
       "0  Female              0     Yes         No       1           No   \n",
       "1    Male              0      No         No      34          Yes   \n",
       "2    Male              0      No         No       2          Yes   \n",
       "3    Male              0      No         No      45           No   \n",
       "4  Female              0      No         No       2          Yes   \n",
       "\n",
       "  OnlineSecurity OnlineBackup DeviceProtection TechSupport StreamingTV  \\\n",
       "0             No          Yes               No          No          No   \n",
       "1            Yes           No              Yes          No          No   \n",
       "2            Yes          Yes               No          No          No   \n",
       "3            Yes           No              Yes         Yes          No   \n",
       "4             No           No               No          No          No   \n",
       "\n",
       "  StreamingMovies        Contract  MonthlyCharges TotalCharges Churn  \n",
       "0              No  Month-to-month           29.85        29.85    No  \n",
       "1              No        One year           56.95       1889.5    No  \n",
       "2              No  Month-to-month           53.85       108.15   Yes  \n",
       "3              No        One year           42.30      1840.75    No  \n",
       "4              No  Month-to-month           70.70       151.65   Yes  "
      ]
     },
     "execution_count": 3,
     "metadata": {},
     "output_type": "execute_result"
    }
   ],
   "source": [
    "churnData = pd.read_csv('Customer-Churn.csv')\n",
    "churnData.head()"
   ]
  },
  {
   "cell_type": "markdown",
   "id": "c318eba2",
   "metadata": {},
   "source": [
    "# checking types and changing TotalCharges to numerical"
   ]
  },
  {
   "cell_type": "code",
   "execution_count": 5,
   "id": "ddd45e95",
   "metadata": {
    "scrolled": true
   },
   "outputs": [
    {
     "data": {
      "text/plain": [
       "gender               object\n",
       "SeniorCitizen         int64\n",
       "Partner              object\n",
       "Dependents           object\n",
       "tenure                int64\n",
       "PhoneService         object\n",
       "OnlineSecurity       object\n",
       "OnlineBackup         object\n",
       "DeviceProtection     object\n",
       "TechSupport          object\n",
       "StreamingTV          object\n",
       "StreamingMovies      object\n",
       "Contract             object\n",
       "MonthlyCharges      float64\n",
       "TotalCharges         object\n",
       "Churn                object\n",
       "dtype: object"
      ]
     },
     "execution_count": 5,
     "metadata": {},
     "output_type": "execute_result"
    }
   ],
   "source": [
    "churnData.dtypes"
   ]
  },
  {
   "cell_type": "code",
   "execution_count": 7,
   "id": "0cd536e3",
   "metadata": {},
   "outputs": [],
   "source": [
    "churnData['TotalCharges'] = pd.to_numeric(churnData['TotalCharges'],errors='coerce')"
   ]
  },
  {
   "cell_type": "markdown",
   "id": "4f3848dd",
   "metadata": {},
   "source": [
    "# check for NaN values"
   ]
  },
  {
   "cell_type": "code",
   "execution_count": 14,
   "id": "21f5b178",
   "metadata": {
    "scrolled": true
   },
   "outputs": [
    {
     "data": {
      "text/plain": [
       "gender              0.000000\n",
       "SeniorCitizen       0.000000\n",
       "Partner             0.000000\n",
       "Dependents          0.000000\n",
       "tenure              0.000000\n",
       "PhoneService        0.000000\n",
       "OnlineSecurity      0.000000\n",
       "OnlineBackup        0.000000\n",
       "DeviceProtection    0.000000\n",
       "TechSupport         0.000000\n",
       "StreamingTV         0.000000\n",
       "StreamingMovies     0.000000\n",
       "Contract            0.000000\n",
       "MonthlyCharges      0.000000\n",
       "TotalCharges        0.001562\n",
       "Churn               0.000000\n",
       "dtype: float64"
      ]
     },
     "execution_count": 14,
     "metadata": {},
     "output_type": "execute_result"
    }
   ],
   "source": [
    "churnData.isna().sum()/len(churnData)"
   ]
  },
  {
   "cell_type": "code",
   "execution_count": null,
   "id": "396586d6",
   "metadata": {},
   "outputs": [],
   "source": [
    "#Only TotalCharges has NaN values, and it's 0.15% so a very low proportion. \n",
    "#Will check the distribution of TotalCharges to be sure"
   ]
  },
  {
   "cell_type": "code",
   "execution_count": 10,
   "id": "474013c0",
   "metadata": {},
   "outputs": [],
   "source": [
    "import matplotlib.pyplot as plt\n",
    "%matplotlib inline"
   ]
  },
  {
   "cell_type": "code",
   "execution_count": 12,
   "id": "b125d5fe",
   "metadata": {},
   "outputs": [
    {
     "data": {
      "image/png": "[encoded data removed]",
      "text/plain": [
       "<Figure size 360x360 with 1 Axes>"
      ]
     },
     "metadata": {
      "needs_background": "light"
     },
     "output_type": "display_data"
    }
   ],
   "source": [
    "sns.displot(churnData['TotalCharges'])\n",
    "plt.show()"
   ]
  },
  {
   "cell_type": "code",
   "execution_count": null,
   "id": "491d24b6",
   "metadata": {},
   "outputs": [],
   "source": [
    "#Will fill the NaNs with the mean of TotalCharges, that won't skew the data much, especially considering the low proportion. "
   ]
  },
  {
   "cell_type": "code",
   "execution_count": 15,
   "id": "68fe5fbf",
   "metadata": {},
   "outputs": [],
   "source": [
    "churnData['TotalCharges'] = churnData['TotalCharges'].fillna(np.mean(churnData['TotalCharges']))"
   ]
  },
  {
   "cell_type": "code",
   "execution_count": 16,
   "id": "66c37f54",
   "metadata": {},
   "outputs": [
    {
     "data": {
      "image/png": "[encoded data removed]",
      "text/plain": [
       "<Figure size 360x360 with 1 Axes>"
      ]
     },
     "metadata": {
      "needs_background": "light"
     },
     "output_type": "display_data"
    }
   ],
   "source": [
    "#just checking\n",
    "sns.displot(churnData['TotalCharges'])\n",
    "plt.show()"
   ]
  },
  {
   "cell_type": "markdown",
   "id": "9b31ff80",
   "metadata": {},
   "source": [
    "# Scale and model"
   ]
  },
  {
   "cell_type": "code",
   "execution_count": null,
   "id": "1494bf63",
   "metadata": {},
   "outputs": [],
   "source": [
    "#first separate and scale the features"
   ]
  },
  {
   "cell_type": "code",
   "execution_count": null,
   "id": "6c293d13",
   "metadata": {},
   "outputs": [],
   "source": [
    "#Selecting the features as indicated in lab"
   ]
  },
  {
   "cell_type": "code",
   "execution_count": 35,
   "id": "18d5f6b8",
   "metadata": {
    "scrolled": true
   },
   "outputs": [
    {
     "data": {
      "text/html": [
       "<div>\n",
       "<style scoped>\n",
       "    .dataframe tbody tr th:only-of-type {\n",
       "        vertical-align: middle;\n",
       "    }\n",
       "\n",
       "    .dataframe tbody tr th {\n",
       "        vertical-align: top;\n",
       "    }\n",
       "\n",
       "    .dataframe thead th {\n",
       "        text-align: right;\n",
       "    }\n",
       "</style>\n",
       "<table border=\"1\" class=\"dataframe\">\n",
       "  <thead>\n",
       "    <tr style=\"text-align: right;\">\n",
       "      <th></th>\n",
       "      <th>tenure</th>\n",
       "      <th>SeniorCitizen</th>\n",
       "      <th>MonthlyCharges</th>\n",
       "      <th>TotalCharges</th>\n",
       "      <th>Churn</th>\n",
       "    </tr>\n",
       "  </thead>\n",
       "  <tbody>\n",
       "    <tr>\n",
       "      <th>0</th>\n",
       "      <td>1</td>\n",
       "      <td>0</td>\n",
       "      <td>29.85</td>\n",
       "      <td>29.85</td>\n",
       "      <td>No</td>\n",
       "    </tr>\n",
       "    <tr>\n",
       "      <th>1</th>\n",
       "      <td>34</td>\n",
       "      <td>0</td>\n",
       "      <td>56.95</td>\n",
       "      <td>1889.50</td>\n",
       "      <td>No</td>\n",
       "    </tr>\n",
       "    <tr>\n",
       "      <th>2</th>\n",
       "      <td>2</td>\n",
       "      <td>0</td>\n",
       "      <td>53.85</td>\n",
       "      <td>108.15</td>\n",
       "      <td>Yes</td>\n",
       "    </tr>\n",
       "    <tr>\n",
       "      <th>3</th>\n",
       "      <td>45</td>\n",
       "      <td>0</td>\n",
       "      <td>42.30</td>\n",
       "      <td>1840.75</td>\n",
       "      <td>No</td>\n",
       "    </tr>\n",
       "    <tr>\n",
       "      <th>4</th>\n",
       "      <td>2</td>\n",
       "      <td>0</td>\n",
       "      <td>70.70</td>\n",
       "      <td>151.65</td>\n",
       "      <td>Yes</td>\n",
       "    </tr>\n",
       "  </tbody>\n",
       "</table>\n",
       "</div>"
      ],
      "text/plain": [
       "   tenure  SeniorCitizen  MonthlyCharges  TotalCharges Churn\n",
       "0       1              0           29.85         29.85    No\n",
       "1      34              0           56.95       1889.50    No\n",
       "2       2              0           53.85        108.15   Yes\n",
       "3      45              0           42.30       1840.75    No\n",
       "4       2              0           70.70        151.65   Yes"
      ]
     },
     "execution_count": 35,
     "metadata": {},
     "output_type": "execute_result"
    }
   ],
   "source": [
    "mod_data = churnData[['tenure', 'SeniorCitizen', 'MonthlyCharges','TotalCharges','Churn']]\n",
    "mod_data.head()"
   ]
  },
  {
   "cell_type": "code",
   "execution_count": null,
   "id": "f005ed00",
   "metadata": {},
   "outputs": [],
   "source": [
    "#splitting X and y"
   ]
  },
  {
   "cell_type": "code",
   "execution_count": 36,
   "id": "c1f43cb1",
   "metadata": {},
   "outputs": [],
   "source": [
    "X = mod_data.drop(columns=['Churn'])\n",
    "y = mod_data['Churn']"
   ]
  },
  {
   "cell_type": "code",
   "execution_count": null,
   "id": "baa25a26",
   "metadata": {},
   "outputs": [],
   "source": [
    "#Doing the train/test split"
   ]
  },
  {
   "cell_type": "code",
   "execution_count": 37,
   "id": "a1a8ef18",
   "metadata": {},
   "outputs": [],
   "source": [
    "from sklearn.model_selection import train_test_split\n",
    "X_train, X_test, y_train, y_test = train_test_split(X, y, test_size=0.2, random_state=42)"
   ]
  },
  {
   "cell_type": "code",
   "execution_count": null,
   "id": "e6054e75",
   "metadata": {},
   "outputs": [],
   "source": [
    "#Fitting scaler on X_train then transforming both X_train and X_test"
   ]
  },
  {
   "cell_type": "code",
   "execution_count": 43,
   "id": "419a0ab4",
   "metadata": {},
   "outputs": [],
   "source": [
    "from sklearn.preprocessing import MinMaxScaler\n",
    "scaler=MinMaxScaler().fit(X_train)\n",
    "X_train_scaled = scaler.transform(X_train)\n",
    "X_test_scaled = scaler.transform(X_test)"
   ]
  },
  {
   "cell_type": "code",
   "execution_count": null,
   "id": "cecdbb12",
   "metadata": {},
   "outputs": [],
   "source": [
    "#Running the logistic regression model"
   ]
  },
  {
   "cell_type": "code",
   "execution_count": 41,
   "id": "db9ae458",
   "metadata": {},
   "outputs": [
    {
     "data": {
      "text/plain": [
       "LogisticRegression(multi_class='ovr', random_state=0)"
      ]
     },
     "execution_count": 41,
     "metadata": {},
     "output_type": "execute_result"
    }
   ],
   "source": [
    "from sklearn.linear_model import LogisticRegression\n",
    "classification = LogisticRegression(random_state=0, solver='lbfgs',\n",
    "                  multi_class='ovr')\n",
    "classification.fit(X_train_scaled, y_train)"
   ]
  },
  {
   "cell_type": "code",
   "execution_count": null,
   "id": "05b6f55f",
   "metadata": {},
   "outputs": [],
   "source": [
    "#Checking the accuracy on the test data"
   ]
  },
  {
   "cell_type": "code",
   "execution_count": 42,
   "id": "6f06729e",
   "metadata": {},
   "outputs": [
    {
     "data": {
      "text/plain": [
       "0.8034066713981547"
      ]
     },
     "execution_count": 42,
     "metadata": {},
     "output_type": "execute_result"
    }
   ],
   "source": [
    "predictions = classification.predict(X_test_scaled)\n",
    "predictions\n",
    "classification.score(X_test_scaled, y_test)"
   ]
  },
  {
   "cell_type": "markdown",
   "id": "363576c2",
   "metadata": {},
   "source": [
    "# Managing inbalance"
   ]
  },
  {
   "cell_type": "code",
   "execution_count": null,
   "id": "acdd1e21",
   "metadata": {},
   "outputs": [],
   "source": [
    "#Check for the imbalance"
   ]
  },
  {
   "cell_type": "code",
   "execution_count": 44,
   "id": "dc801712",
   "metadata": {},
   "outputs": [
    {
     "data": {
      "text/plain": [
       "No     5174\n",
       "Yes    1869\n",
       "Name: Churn, dtype: int64"
      ]
     },
     "execution_count": 44,
     "metadata": {},
     "output_type": "execute_result"
    }
   ],
   "source": [
    "churnData['Churn'].value_counts()"
   ]
  },
  {
   "cell_type": "code",
   "execution_count": null,
   "id": "a45fc605",
   "metadata": {},
   "outputs": [],
   "source": [
    "#the data is very inbalanced (luckily for the company! but unlucky for our analysis)"
   ]
  },
  {
   "cell_type": "code",
   "execution_count": null,
   "id": "982f17bc",
   "metadata": {},
   "outputs": [],
   "source": [
    "#Will try oversampling first (especially since our dataset is small to start with!)"
   ]
  },
  {
   "cell_type": "code",
   "execution_count": 45,
   "id": "3d9edc5e",
   "metadata": {},
   "outputs": [],
   "source": [
    "churn_no = mod_data[mod_data['Churn'] == 'No']\n",
    "churn_yes = mod_data[mod_data['Churn'] == 'Yes']"
   ]
  },
  {
   "cell_type": "code",
   "execution_count": 47,
   "id": "fff2257d",
   "metadata": {},
   "outputs": [],
   "source": [
    "from sklearn.utils import resample\n",
    "churn_yes_oversampled = resample(churn_yes, replace = True, n_samples = len(churn_no))"
   ]
  },
  {
   "cell_type": "code",
   "execution_count": 50,
   "id": "434dfb89",
   "metadata": {},
   "outputs": [
    {
     "name": "stdout",
     "output_type": "stream",
     "text": [
      "(5174, 5)\n",
      "(5174, 5)\n"
     ]
    }
   ],
   "source": [
    "print(churn_no.shape)\n",
    "print(churn_yes_oversampled.shape)"
   ]
  },
  {
   "cell_type": "code",
   "execution_count": 51,
   "id": "9bb9729b",
   "metadata": {},
   "outputs": [],
   "source": [
    "mod_data_oversampled = pd.concat([churn_no, churn_yes_oversampled], axis=0)"
   ]
  },
  {
   "cell_type": "code",
   "execution_count": 52,
   "id": "2cb7905d",
   "metadata": {},
   "outputs": [
    {
     "data": {
      "text/plain": [
       "No     5174\n",
       "Yes    5174\n",
       "Name: Churn, dtype: int64"
      ]
     },
     "execution_count": 52,
     "metadata": {},
     "output_type": "execute_result"
    }
   ],
   "source": [
    "mod_data_oversampled['Churn'].value_counts()"
   ]
  },
  {
   "cell_type": "code",
   "execution_count": null,
   "id": "6c6d24cf",
   "metadata": {},
   "outputs": [],
   "source": [
    "#Now that we've oversampled, we need to scale and model to test the results against \"imbalanced\" model results. "
   ]
  },
  {
   "cell_type": "code",
   "execution_count": 53,
   "id": "a04792c8",
   "metadata": {},
   "outputs": [],
   "source": [
    "X_over = mod_data_oversampled.drop(columns=['Churn'])\n",
    "y_over = mod_data_oversampled['Churn']"
   ]
  },
  {
   "cell_type": "code",
   "execution_count": 54,
   "id": "38b502e2",
   "metadata": {},
   "outputs": [],
   "source": [
    "X_train_over, X_test_over, y_train_over, y_test_over = train_test_split(X_over, y_over, test_size=0.2, random_state=42)"
   ]
  },
  {
   "cell_type": "code",
   "execution_count": 55,
   "id": "f972ceb5",
   "metadata": {},
   "outputs": [],
   "source": [
    "scaler_over=MinMaxScaler().fit(X_train_over)\n",
    "X_train_scaled_over = scaler_over.transform(X_train_over)\n",
    "X_test_scaled_over = scaler_over.transform(X_test_over)"
   ]
  },
  {
   "cell_type": "code",
   "execution_count": 56,
   "id": "a2a185c9",
   "metadata": {},
   "outputs": [
    {
     "data": {
      "text/plain": [
       "LogisticRegression(multi_class='ovr', random_state=0)"
      ]
     },
     "execution_count": 56,
     "metadata": {},
     "output_type": "execute_result"
    }
   ],
   "source": [
    "classification_over = LogisticRegression(random_state=0, solver='lbfgs',\n",
    "                  multi_class='ovr')\n",
    "classification_over.fit(X_train_scaled_over, y_train_over)"
   ]
  },
  {
   "cell_type": "code",
   "execution_count": 57,
   "id": "d73974f9",
   "metadata": {},
   "outputs": [
    {
     "data": {
      "text/plain": [
       "0.6859903381642513"
      ]
     },
     "execution_count": 57,
     "metadata": {},
     "output_type": "execute_result"
    }
   ],
   "source": [
    "predictions_over = classification_over.predict(X_test_scaled_over)\n",
    "predictions_over\n",
    "classification.score(X_test_scaled_over, y_test_over)"
   ]
  },
  {
   "cell_type": "code",
   "execution_count": null,
   "id": "242c468d",
   "metadata": {},
   "outputs": [],
   "source": [
    "#Now let's undersample, see if we can get a better score (oversampling did not improve the score). "
   ]
  },
  {
   "cell_type": "code",
   "execution_count": 58,
   "id": "3661d556",
   "metadata": {},
   "outputs": [],
   "source": [
    "churn_no_undersampled = resample(churn_no, replace = False, n_samples = len(churn_yes))"
   ]
  },
  {
   "cell_type": "code",
   "execution_count": 59,
   "id": "61d6b108",
   "metadata": {},
   "outputs": [
    {
     "name": "stdout",
     "output_type": "stream",
     "text": [
      "(1869, 5)\n",
      "(1869, 5)\n"
     ]
    }
   ],
   "source": [
    "print(churn_yes.shape)\n",
    "print(churn_no_undersampled.shape)"
   ]
  },
  {
   "cell_type": "code",
   "execution_count": 60,
   "id": "994b0391",
   "metadata": {},
   "outputs": [],
   "source": [
    "mod_data_undersampled = pd.concat([churn_yes, churn_no_undersampled], axis=0)"
   ]
  },
  {
   "cell_type": "code",
   "execution_count": 62,
   "id": "81fa14ee",
   "metadata": {},
   "outputs": [
    {
     "data": {
      "text/plain": [
       "Yes    1869\n",
       "No     1869\n",
       "Name: Churn, dtype: int64"
      ]
     },
     "execution_count": 62,
     "metadata": {},
     "output_type": "execute_result"
    }
   ],
   "source": [
    "mod_data_undersampled['Churn'].value_counts()"
   ]
  },
  {
   "cell_type": "code",
   "execution_count": null,
   "id": "2a3fdfbc",
   "metadata": {},
   "outputs": [],
   "source": [
    "#And we model again! "
   ]
  },
  {
   "cell_type": "code",
   "execution_count": 63,
   "id": "803f063f",
   "metadata": {},
   "outputs": [],
   "source": [
    "X_under = mod_data_undersampled.drop(columns=['Churn'])\n",
    "y_under = mod_data_undersampled['Churn']"
   ]
  },
  {
   "cell_type": "code",
   "execution_count": 64,
   "id": "b908e9f9",
   "metadata": {},
   "outputs": [],
   "source": [
    "X_train_under, X_test_under, y_train_under, y_test_under = train_test_split(X_under, y_under, test_size=0.2, random_state=42)"
   ]
  },
  {
   "cell_type": "code",
   "execution_count": 65,
   "id": "0f82f537",
   "metadata": {},
   "outputs": [],
   "source": [
    "scaler_under=MinMaxScaler().fit(X_train_under)\n",
    "X_train_scaled_under = scaler_under.transform(X_train_under)\n",
    "X_test_scaled_under = scaler_under.transform(X_test_under)"
   ]
  },
  {
   "cell_type": "code",
   "execution_count": 66,
   "id": "290865c4",
   "metadata": {},
   "outputs": [
    {
     "data": {
      "text/plain": [
       "LogisticRegression(multi_class='ovr', random_state=0)"
      ]
     },
     "execution_count": 66,
     "metadata": {},
     "output_type": "execute_result"
    }
   ],
   "source": [
    "classification_under = LogisticRegression(random_state=0, solver='lbfgs',\n",
    "                  multi_class='ovr')\n",
    "classification_under.fit(X_train_scaled_under, y_train_under)"
   ]
  },
  {
   "cell_type": "code",
   "execution_count": 67,
   "id": "895b2d5c",
   "metadata": {},
   "outputs": [
    {
     "data": {
      "text/plain": [
       "0.7179144385026738"
      ]
     },
     "execution_count": 67,
     "metadata": {},
     "output_type": "execute_result"
    }
   ],
   "source": [
    "predictions_under = classification_under.predict(X_test_scaled_under)\n",
    "predictions_under\n",
    "classification_under.score(X_test_scaled_under, y_test_under)"
   ]
  },
  {
   "cell_type": "code",
   "execution_count": null,
   "id": "8e8e0073",
   "metadata": {},
   "outputs": [],
   "source": []
  },
  {
   "cell_type": "code",
   "execution_count": null,
   "id": "1c859bb3",
   "metadata": {},
   "outputs": [],
   "source": []
  },
  {
   "cell_type": "code",
   "execution_count": null,
   "id": "196b9d27",
   "metadata": {},
   "outputs": [],
   "source": []
  },
  {
   "cell_type": "code",
   "execution_count": null,
   "id": "270da7a9",
   "metadata": {},
   "outputs": [],
   "source": []
  },
  {
   "cell_type": "code",
   "execution_count": null,
   "id": "2fbe391a",
   "metadata": {},
   "outputs": [],
   "source": []
  },
  {
   "cell_type": "code",
   "execution_count": null,
   "id": "578a7c42",
   "metadata": {},
   "outputs": [],
   "source": []
  },
  {
   "cell_type": "code",
   "execution_count": null,
   "id": "93bedc8c",
   "metadata": {},
   "outputs": [],
   "source": []
  }
 ],
 "metadata": {
  "kernelspec": {
   "display_name": "Python 3 (ipykernel)",
   "language": "python",
   "name": "python3"
  },
  "language_info": {
   "codemirror_mode": {
    "name": "ipython",
    "version": 3
   },
   "file_extension": ".py",
   "mimetype": "text/x-python",
   "name": "python",
   "nbconvert_exporter": "python",
   "pygments_lexer": "ipython3",
   "version": "3.9.7"
  },
  "toc": {
   "base_numbering": 1,
   "nav_menu": {},
   "number_sections": true,
   "sideBar": true,
   "skip_h1_title": false,
   "title_cell": "Table of Contents",
   "title_sidebar": "Contents",
   "toc_cell": false,
   "toc_position": {},
   "toc_section_display": true,
   "toc_window_display": false
  },
  "varInspector": {
   "cols": {
    "lenName": 16,
    "lenType": 16,
    "lenVar": 40
   },
   "kernels_config": {
    "python": {
     "delete_cmd_postfix": "",
     "delete_cmd_prefix": "del ",
     "library": "var_list.py",
     "varRefreshCmd": "print(var_dic_list())"
    },
    "r": {
     "delete_cmd_postfix": ") ",
     "delete_cmd_prefix": "rm(",
     "library": "var_list.r",
     "varRefreshCmd": "cat(var_dic_list()) "
    }
   },
   "types_to_exclude": [
    "module",
    "function",
    "builtin_function_or_method",
    "instance",
    "_Feature"
   ],
   "window_display": false
  }
 },
 "nbformat": 4,
 "nbformat_minor": 5
}
